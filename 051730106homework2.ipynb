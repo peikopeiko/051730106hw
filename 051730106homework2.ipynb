{
 "cells": [
  {
   "cell_type": "markdown",
   "metadata": {},
   "source": [
    "## 作业2：ADAMS和RK4数值积分的实现\n",
    "仿照run_euler函数的实现，在modsim中实现Adams和四阶Runge-Kutta法，并使用炮弹发射仿真比较Euler、Adams和RK4三种数值积分的精度。实现run_adams和run_rk4函数。"
   ]
  },
  {
   "cell_type": "markdown",
   "metadata": {},
   "source": [
    "ADAMS法"
   ]
  },
  {
   "cell_type": "code",
   "execution_count": 1,
   "metadata": {},
   "outputs": [],
   "source": [
    "import numpy as np\n",
    "import math\n",
    "import matplotlib.pyplot as plt"
   ]
  },
  {
   "cell_type": "code",
   "execution_count": 2,
   "metadata": {},
   "outputs": [],
   "source": [
    "g=9.8\n",
    "dt=0.1\n",
    "H=100.0\n",
    "vy1=0.0\n",
    "vy2=0.0\n",
    "t=0.0\n",
    "H1=[]\n",
    "T=[]"
   ]
  },
  {
   "cell_type": "code",
   "execution_count": 3,
   "metadata": {},
   "outputs": [
    {
     "data": {
      "text/plain": [
       "Text(0, 0.5, 'Height')"
      ]
     },
     "execution_count": 3,
     "metadata": {},
     "output_type": "execute_result"
    },
    {
     "data": {
      "image/png": "[encoded data removed]",
      "text/plain": [
       "<Figure size 432x288 with 1 Axes>"
      ]
     },
     "metadata": {
      "needs_background": "light"
     },
     "output_type": "display_data"
    }
   ],
   "source": [
    "def run_adams(vy1,vy2,H):\n",
    "    vy1=vy1+g*dt\n",
    "    H=H-(3*vy1-vy2)*dt*0.5\n",
    "    vy2=vy1\n",
    "    return vy1,vy2,H\n",
    "for i in range(99999):\n",
    "        vy1,vy2,H=run_adams(vy1,vy2,H)\n",
    "        if    H<=0:\n",
    "            break\n",
    "        t+=dt\n",
    "        T.append(t) \n",
    "        H1.append(H)\n",
    "H=H1[i-1]\n",
    "t=T[i-1]\n",
    "plt.plot(T,H1) \n",
    "plt.xlabel('time')\n",
    "plt.ylabel('Height')"
   ]
  },
  {
   "cell_type": "markdown",
   "metadata": {},
   "source": [
    "四阶Runge-Kutta法，"
   ]
  },
  {
   "cell_type": "code",
   "execution_count": 4,
   "metadata": {},
   "outputs": [
    {
     "data": {
      "text/plain": [
       "Text(0, 0.5, 'Height')"
      ]
     },
     "execution_count": 4,
     "metadata": {},
     "output_type": "execute_result"
    },
    {
     "data": {
      "image/png": "[encoded data removed]",
      "text/plain": [
       "<Figure size 432x288 with 1 Axes>"
      ]
     },
     "metadata": {
      "needs_background": "light"
     },
     "output_type": "display_data"
    }
   ],
   "source": [
    "import math\n",
    "import numpy as np\n",
    "import matplotlib.pyplot as plt\n",
    "def run_rk4(y, x, dx, f):\n",
    "    k1 = dx * f(y, t)\n",
    "    k2 = dx * f(y + 0.5 * k1, x + 0.5 * dx)\n",
    "    k3 = dx * f(y + 0.5 * k2, x + 0.5 * dx)\n",
    "    k4 = dx * f(y + k3, x + dx)\n",
    "    return y + (k1 + 2 * k2 + 2 * k3 + k4) / 6.0\n",
    "if __name__=='__main__':\n",
    "    t = 0.0\n",
    "    y = 100.0\n",
    "    dt = 0.1\n",
    "    ys, ts = [], []\n",
    "    def fun(y, t):\n",
    "        return -9.8*t\n",
    "    while y >= 0:\n",
    "        y = run_rk4(y, t, dt, fun)\n",
    "        t =t+ dt\n",
    "        ys.append(y)\n",
    "        ts.append(t)\n",
    "   \n",
    "plt.plot(ts,ys) \n",
    "plt.xlabel('time')\n",
    "plt.ylabel('Height')"
   ]
  },
  {
   "cell_type": "code",
   "execution_count": null,
   "metadata": {},
   "outputs": [],
   "source": []
  },
  {
   "cell_type": "code",
   "execution_count": null,
   "metadata": {},
   "outputs": [],
   "source": []
  }
 ],
 "metadata": {
  "kernelspec": {
   "display_name": "Python 3",
   "language": "python",
   "name": "python3"
  },
  "language_info": {
   "codemirror_mode": {
    "name": "ipython",
    "version": 3
   },
   "file_extension": ".py",
   "mimetype": "text/x-python",
   "name": "python",
   "nbconvert_exporter": "python",
   "pygments_lexer": "ipython3",
   "version": "3.7.7"
  }
 },
 "nbformat": 4,
 "nbformat_minor": 4
}
